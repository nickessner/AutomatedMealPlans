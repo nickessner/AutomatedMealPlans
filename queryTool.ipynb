{
 "cells": [
  {
   "cell_type": "code",
   "execution_count": 1,
   "metadata": {},
   "outputs": [],
   "source": [
    "import pandas as pd\n",
    "import altair as alt\n",
    "import json\n",
    "import ipywidgets as widgets"
   ]
  },
  {
   "cell_type": "code",
   "execution_count": 2,
   "metadata": {},
   "outputs": [
    {
     "name": "stdout",
     "output_type": "stream",
     "text": [
      "Collecting spacy\n",
      "  Using cached https://files.pythonhosted.org/packages/99/c9/35d94c73e26b194c07a3d3adb82c06c38f76bebd3e1ba1e7195fb6f5a7cc/spacy-3.0.6-cp37-cp37m-win_amd64.whl\n",
      "Requirement already satisfied: blis<0.8.0,>=0.4.0 in c:\\programdata\\anaconda3\\lib\\site-packages (from spacy) (0.7.4)\n",
      "Collecting packaging>=20.0 (from spacy)\n",
      "  Using cached https://files.pythonhosted.org/packages/3e/89/7ea760b4daa42653ece2380531c90f64788d979110a2ab51049d92f408af/packaging-20.9-py2.py3-none-any.whl\n",
      "Requirement already satisfied: setuptools in c:\\programdata\\anaconda3\\lib\\site-packages (from spacy) (41.4.0)\n",
      "Requirement already satisfied: requests<3.0.0,>=2.13.0 in c:\\programdata\\anaconda3\\lib\\site-packages (from spacy) (2.22.0)\n",
      "Requirement already satisfied: typing-extensions<4.0.0.0,>=3.7.4; python_version < \"3.8\" in c:\\programdata\\anaconda3\\lib\\site-packages (from spacy) (3.7.4.3)\n",
      "Collecting catalogue<2.1.0,>=2.0.3 (from spacy)\n",
      "  Using cached https://files.pythonhosted.org/packages/82/a5/b5021c74c04cac35a27d34cbf3146d86eb8e173b4491888bc4908c4c8b3b/catalogue-2.0.3-py3-none-any.whl\n",
      "Collecting cymem<2.1.0,>=2.0.2 (from spacy)\n",
      "  Using cached https://files.pythonhosted.org/packages/3f/7f/e4b81e6355e87c08a039cbc64c3044046ba4665a74e9b62246c71976a849/cymem-2.0.5-cp37-cp37m-win_amd64.whl\n",
      "Collecting pathy>=0.3.5 (from spacy)\n",
      "  Using cached https://files.pythonhosted.org/packages/13/87/5991d87be8ed60beb172b4062dbafef18b32fa559635a8e2b633c2974f85/pathy-0.5.2-py3-none-any.whl\n",
      "Requirement already satisfied: numpy>=1.15.0 in c:\\users\\npess\\appdata\\roaming\\python\\python37\\site-packages (from spacy) (1.17.3)\n",
      "Collecting preshed<3.1.0,>=3.0.2 (from spacy)\n",
      "  Using cached https://files.pythonhosted.org/packages/04/19/f9b58e2e1ed1e4f6cb883dc6e1eb0b27271aac93243db57ecc81b00d9a23/preshed-3.0.5-cp37-cp37m-win_amd64.whl\n",
      "Collecting thinc<8.1.0,>=8.0.3 (from spacy)\n",
      "  Using cached https://files.pythonhosted.org/packages/9d/fc/e44d8b7783f112545ef96b6988ec89eeb87dfd42b4a428c1189b7c5d5434/thinc-8.0.3-cp37-cp37m-win_amd64.whl\n",
      "Collecting murmurhash<1.1.0,>=0.28.0 (from spacy)\n",
      "  Using cached https://files.pythonhosted.org/packages/c7/3a/dc5400c423a1b85d7d081326d1f391676c10bb690aeae0c211ae4843739c/murmurhash-1.0.5-cp37-cp37m-win_amd64.whl\n",
      "Collecting spacy-legacy<3.1.0,>=3.0.4 (from spacy)\n",
      "  Using cached https://files.pythonhosted.org/packages/8d/67/d4002a18e26bf29b17ab563ddb55232b445ab6a02f97bf17d1345ff34d3f/spacy_legacy-3.0.5-py2.py3-none-any.whl\n",
      "Collecting srsly<3.0.0,>=2.4.1 (from spacy)\n",
      "  Using cached https://files.pythonhosted.org/packages/e7/f8/62520edb641dde8ba57f7ba9aa82f3c8e6567b8b8aacb690615c9800d156/srsly-2.4.1-cp37-cp37m-win_amd64.whl\n",
      "Collecting wasabi<1.1.0,>=0.8.1 (from spacy)\n",
      "  Using cached https://files.pythonhosted.org/packages/a6/1d/d281571b4c3b20fff183b485c6673c62878727119a849c7932651a8b5060/wasabi-0.8.2-py3-none-any.whl\n",
      "Collecting typer<0.4.0,>=0.3.0 (from spacy)\n",
      "  Using cached https://files.pythonhosted.org/packages/90/34/d138832f6945432c638f32137e6c79a3b682f06a63c488dcfaca6b166c64/typer-0.3.2-py3-none-any.whl\n",
      "Collecting tqdm<5.0.0,>=4.38.0 (from spacy)\n",
      "  Using cached https://files.pythonhosted.org/packages/72/8a/34efae5cf9924328a8f34eeb2fdaae14c011462d9f0e3fcded48e1266d1c/tqdm-4.60.0-py2.py3-none-any.whl\n",
      "Collecting pydantic<1.8.0,>=1.7.1 (from spacy)\n",
      "  Using cached https://files.pythonhosted.org/packages/03/95/f1c3455912b11e8497978e9a46f1ebe8548bc898b66044e21974acaa80a3/pydantic-1.7.3-cp37-cp37m-win_amd64.whl\n",
      "Requirement already satisfied: jinja2 in c:\\programdata\\anaconda3\\lib\\site-packages (from spacy) (2.10.3)\n",
      "Requirement already satisfied: pyparsing>=2.0.2 in c:\\programdata\\anaconda3\\lib\\site-packages (from packaging>=20.0->spacy) (2.4.2)\n",
      "Requirement already satisfied: urllib3!=1.25.0,!=1.25.1,<1.26,>=1.21.1 in c:\\users\\npess\\appdata\\roaming\\python\\python37\\site-packages (from requests<3.0.0,>=2.13.0->spacy) (1.25.4)\n",
      "Requirement already satisfied: chardet<3.1.0,>=3.0.2 in c:\\programdata\\anaconda3\\lib\\site-packages (from requests<3.0.0,>=2.13.0->spacy) (3.0.4)\n",
      "Requirement already satisfied: certifi>=2017.4.17 in c:\\programdata\\anaconda3\\lib\\site-packages (from requests<3.0.0,>=2.13.0->spacy) (2019.9.11)\n",
      "Requirement already satisfied: idna<2.9,>=2.5 in c:\\programdata\\anaconda3\\lib\\site-packages (from requests<3.0.0,>=2.13.0->spacy) (2.8)\n",
      "Requirement already satisfied: zipp>=0.5; python_version < \"3.8\" in c:\\programdata\\anaconda3\\lib\\site-packages (from catalogue<2.1.0,>=2.0.3->spacy) (0.6.0)\n",
      "Collecting smart-open<4.0.0,>=2.2.0 (from pathy>=0.3.5->spacy)\n",
      "Collecting click<7.2.0,>=7.1.1 (from typer<0.4.0,>=0.3.0->spacy)\n",
      "  Using cached https://files.pythonhosted.org/packages/d2/3d/fa76db83bf75c4f8d338c2fd15c8d33fdd7ad23a9b5e57eb6c5de26b430e/click-7.1.2-py2.py3-none-any.whl\n",
      "Requirement already satisfied: MarkupSafe>=0.23 in c:\\programdata\\anaconda3\\lib\\site-packages (from jinja2->spacy) (1.1.1)\n",
      "Requirement already satisfied: more-itertools in c:\\programdata\\anaconda3\\lib\\site-packages (from zipp>=0.5; python_version < \"3.8\"->catalogue<2.1.0,>=2.0.3->spacy) (7.2.0)\n",
      "Installing collected packages: packaging, catalogue, cymem, click, typer, smart-open, pathy, murmurhash, preshed, pydantic, srsly, wasabi, thinc, spacy-legacy, tqdm, spacy\n",
      "  Found existing installation: packaging 19.2\n",
      "    Uninstalling packaging-19.2:\n",
      "      Successfully uninstalled packaging-19.2\n",
      "  Found existing installation: Click 7.0\n",
      "    Uninstalling Click-7.0:\n",
      "      Successfully uninstalled Click-7.0\n",
      "  Found existing installation: tqdm 4.36.1\n",
      "    Uninstalling tqdm-4.36.1:\n",
      "      Successfully uninstalled tqdm-4.36.1\n",
      "Successfully installed catalogue-2.0.3 click-7.1.2 cymem-2.0.5 murmurhash-1.0.5 packaging-20.9 pathy-0.5.2 preshed-3.0.5 pydantic-1.7.3 smart-open-3.0.0 spacy-3.0.6 spacy-legacy-3.0.5 srsly-2.4.1 thinc-8.0.3 tqdm-4.60.0 typer-0.3.2 wasabi-0.8.2\n",
      "Note: you may need to restart the kernel to use updated packages.\n"
     ]
    }
   ],
   "source": [
    "pip install spacy"
   ]
  },
  {
   "cell_type": "code",
   "execution_count": 2,
   "metadata": {},
   "outputs": [],
   "source": [
    "import spacy\n",
    "import math\n",
    "import numpy as np"
   ]
  },
  {
   "cell_type": "code",
   "execution_count": 5,
   "metadata": {},
   "outputs": [
    {
     "name": "stdout",
     "output_type": "stream",
     "text": [
      "Collecting scattertext\n",
      "  Downloading https://files.pythonhosted.org/packages/b7/a7/a44c8051cdb98763a3a666e1801775980eea1b0cf979ffba92b974c6f07c/scattertext-0.1.2-py3-none-any.whl (7.3MB)\n",
      "Requirement already satisfied: scikit-learn in c:\\programdata\\anaconda3\\lib\\site-packages (from scattertext) (0.21.3)\n",
      "Requirement already satisfied: statsmodels in c:\\programdata\\anaconda3\\lib\\site-packages (from scattertext) (0.10.1)\n",
      "Requirement already satisfied: numpy in c:\\users\\npess\\appdata\\roaming\\python\\python37\\site-packages (from scattertext) (1.17.3)\n",
      "Requirement already satisfied: scipy in c:\\programdata\\anaconda3\\lib\\site-packages (from scattertext) (1.3.1)\n",
      "Collecting flashtext (from scattertext)\n",
      "  Downloading https://files.pythonhosted.org/packages/81/d8/2cd0656eae456d615c2f1efbcae8dfca2cb871a31f34ba8925aba47d5e09/flashtext-2.7.tar.gz\n",
      "Requirement already satisfied: mock in c:\\programdata\\anaconda3\\lib\\site-packages (from scattertext) (3.0.5)\n",
      "Requirement already satisfied: six in c:\\programdata\\anaconda3\\lib\\site-packages (from scattertext) (1.12.0)\n",
      "Requirement already satisfied: pandas in c:\\programdata\\anaconda3\\lib\\site-packages (from scattertext) (0.25.1)\n",
      "Requirement already satisfied: joblib>=0.11 in c:\\users\\npess\\appdata\\roaming\\python\\python37\\site-packages (from scikit-learn->scattertext) (1.0.0)\n",
      "Requirement already satisfied: patsy>=0.4.0 in c:\\programdata\\anaconda3\\lib\\site-packages (from statsmodels->scattertext) (0.5.1)\n",
      "Requirement already satisfied: python-dateutil>=2.6.1 in c:\\programdata\\anaconda3\\lib\\site-packages (from pandas->scattertext) (2.8.0)\n",
      "Requirement already satisfied: pytz>=2017.2 in c:\\programdata\\anaconda3\\lib\\site-packages (from pandas->scattertext) (2019.3)\n",
      "Building wheels for collected packages: flashtext\n",
      "  Building wheel for flashtext (setup.py): started\n",
      "  Building wheel for flashtext (setup.py): finished with status 'done'\n",
      "  Created wheel for flashtext: filename=flashtext-2.7-py2.py3-none-any.whl size=9306 sha256=bf77876b4011c8e1c13a91b4efb4e20626c07bc56ec0b6284d2d4dac15b16419\n",
      "  Stored in directory: C:\\Users\\npess\\AppData\\Local\\pip\\Cache\\wheels\\37\\db\\d7\\fe74f7cb8e5c3afed90fe6f4967c933a6f13d81ab6b3d3128c\n",
      "Successfully built flashtext\n",
      "Installing collected packages: flashtext, scattertext\n",
      "Successfully installed flashtext-2.7 scattertext-0.1.2\n",
      "Note: you may need to restart the kernel to use updated packages.\n"
     ]
    }
   ],
   "source": [
    "pip install scattertext"
   ]
  },
  {
   "cell_type": "code",
   "execution_count": 3,
   "metadata": {},
   "outputs": [],
   "source": [
    "import scattertext as st\n",
    "from sklearn import manifold\n",
    "from sklearn.metrics import euclidean_distances"
   ]
  },
  {
   "cell_type": "code",
   "execution_count": 4,
   "metadata": {},
   "outputs": [],
   "source": [
    "sp = spacy.load('en_core_web_sm')"
   ]
  },
  {
   "cell_type": "code",
   "execution_count": 5,
   "metadata": {},
   "outputs": [],
   "source": [
    "output = widgets.Output()\n",
    "from IPython.display import display\n",
    "\n",
    "def clicked(b):\n",
    "    output.clear_output()\n",
    "    with output:\n",
    "        _norm = True\n",
    "        _sortby = 'name'\n",
    "        _query = querybox.value\n",
    "        \n",
    "        if (normalizedradio.value == \"false\"):\n",
    "            _norm = False\n",
    "            \n",
    "        if (sortradio.value == 'score'):\n",
    "            _sortby = 'score'\n",
    "            \n",
    "        if (_query == \"\"):\n",
    "            print(\"please enter a query\")\n",
    "        else:\n",
    "            drawTilebars(_query,normalized=_norm,sortby=_sortby).display()\n",
    "\n",
    "querybox = widgets.Text(description='Query:')\n",
    "searchbutton = widgets.Button(description=\"Search\")\n",
    "normalizedradio = widgets.RadioButtons(description=\"Normalized?\",options=['true', 'false'])\n",
    "sortradio = widgets.RadioButtons(description=\"Sort by\",options=['name', 'score'])\n",
    "\n",
    "searchbutton.on_click(clicked)\n",
    "normalizedradio.observe(clicked)\n",
    "sortradio.observe(clicked)\n",
    "\n",
    "list_widgets = [widgets.VBox([widgets.HBox([querybox,searchbutton]),\n",
    "                              widgets.HBox([normalizedradio,sortradio])])]\n",
    "accordion = widgets.Accordion(children=list_widgets)\n",
    "accordion.set_title(0,\"Search Controls\")\n",
    "# display(accordion,output)"
   ]
  },
  {
   "cell_type": "code",
   "execution_count": 6,
   "metadata": {},
   "outputs": [
    {
     "data": {
      "application/vnd.jupyter.widget-view+json": {
       "model_id": "aad51516ee4d478b9b6c87a9ed57d711",
       "version_major": 2,
       "version_minor": 0
      },
      "text/plain": [
       "Accordion(children=(VBox(children=(HBox(children=(Text(value='', description='Query:'), Button(description='Se…"
      ]
     },
     "metadata": {},
     "output_type": "display_data"
    }
   ],
   "source": [
    "display(accordion)"
   ]
  },
  {
   "cell_type": "code",
   "execution_count": null,
   "metadata": {},
   "outputs": [],
   "source": []
  }
 ],
 "metadata": {
  "kernelspec": {
   "display_name": "Python 3",
   "language": "python",
   "name": "python3"
  },
  "language_info": {
   "codemirror_mode": {
    "name": "ipython",
    "version": 3
   },
   "file_extension": ".py",
   "mimetype": "text/x-python",
   "name": "python",
   "nbconvert_exporter": "python",
   "pygments_lexer": "ipython3",
   "version": "3.7.4"
  }
 },
 "nbformat": 4,
 "nbformat_minor": 2
}

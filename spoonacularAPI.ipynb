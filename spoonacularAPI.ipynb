{
 "cells": [
  {
   "cell_type": "code",
   "execution_count": 1,
   "metadata": {},
   "outputs": [],
   "source": [
    "import io\n",
    "import pandas as pd\n",
    "import requests\n",
    "import requests_html\n",
    "import numpy as np\n",
    "\n",
    "from pycaret.classification import *\n",
    "from pycaret.regression import *\n",
    "\n",
    "import tensorflow as tf"
   ]
  },
  {
   "cell_type": "code",
   "execution_count": 1,
   "metadata": {},
   "outputs": [
    {
     "name": "stdout",
     "output_type": "stream",
     "text": [
      "Collecting spoonacular\n",
      "  Downloading spoonacular-3.0-py3-none-any.whl (10 kB)\n",
      "Requirement already satisfied: requests in c:\\programdata\\anaconda3\\envs\\nick\\lib\\site-packages (from spoonacular) (2.26.0)\n",
      "Requirement already satisfied: idna<4,>=2.5 in c:\\programdata\\anaconda3\\envs\\nick\\lib\\site-packages (from requests->spoonacular) (3.1)\n",
      "Requirement already satisfied: certifi>=2017.4.17 in c:\\programdata\\anaconda3\\envs\\nick\\lib\\site-packages (from requests->spoonacular) (2021.10.8)\n",
      "Requirement already satisfied: urllib3<1.27,>=1.21.1 in c:\\programdata\\anaconda3\\envs\\nick\\lib\\site-packages (from requests->spoonacular) (1.26.7)\n",
      "Requirement already satisfied: charset-normalizer~=2.0.0 in c:\\programdata\\anaconda3\\envs\\nick\\lib\\site-packages (from requests->spoonacular) (2.0.9)\n",
      "Installing collected packages: spoonacular\n",
      "Successfully installed spoonacular-3.0\n",
      "Note: you may need to restart the kernel to use updated packages.\n"
     ]
    }
   ],
   "source": [
    "# pip install spoonacular"
   ]
  },
  {
   "cell_type": "code",
   "execution_count": 2,
   "metadata": {},
   "outputs": [],
   "source": [
    "import spoonacular as sp\n",
    "apiKey = \"9de53dbbd57446f8b2d529f97b5d7f70\"\n",
    "api = sp.API(\"9de53dbbd57446f8b2d529f97b5d7f70\")"
   ]
  },
  {
   "cell_type": "code",
   "execution_count": 4,
   "metadata": {},
   "outputs": [],
   "source": [
    "#Using pypi library\n",
    "response = api.generate_meal_plan(diet='vegetarian', exclude=None, targetCalories=2000, timeFrame='Day')\n",
    "data = response.json()\n",
    "data.keys()"
   ]
  },
  {
   "cell_type": "code",
   "execution_count": 19,
   "metadata": {},
   "outputs": [
    {
     "data": {
      "text/plain": [
       "[{'id': 207277,\n",
       "  'imageType': 'jpg',\n",
       "  'title': 'Lemon-Orange Buttercream Frosting',\n",
       "  'readyInMinutes': 10,\n",
       "  'servings': 10,\n",
       "  'sourceUrl': 'http://www.myrecipes.com/m/recipe/lemon-orange-buttercream-frosting-50400000119906/'},\n",
       " {'id': 509530,\n",
       "  'imageType': 'jpg',\n",
       "  'title': 'Churro Waffles',\n",
       "  'readyInMinutes': 20,\n",
       "  'servings': 2,\n",
       "  'sourceUrl': 'http://paleomg.com/churro-waffles/'},\n",
       " {'id': 585442,\n",
       "  'imageType': 'jpg',\n",
       "  'title': 'Homemade Nutter Butters',\n",
       "  'readyInMinutes': 100,\n",
       "  'servings': 9,\n",
       "  'sourceUrl': 'http://piesandplots.net/homemade-nutter-butters/'}]"
      ]
     },
     "execution_count": 19,
     "metadata": {},
     "output_type": "execute_result"
    }
   ],
   "source": [
    "data['meals']\n",
    "data"
   ]
  },
  {
   "cell_type": "code",
   "execution_count": 9,
   "metadata": {},
   "outputs": [],
   "source": [
    "response = requests.get(f'https://api.spoonacular.com/recipes/findByNutrients?apiKey={apiKey}&minProtein=30&maxProtein=60&maxCalories=600&number=1')"
   ]
  },
  {
   "cell_type": "code",
   "execution_count": 10,
   "metadata": {},
   "outputs": [
    {
     "data": {
      "text/plain": [
       "<Response [200]>"
      ]
     },
     "execution_count": 10,
     "metadata": {},
     "output_type": "execute_result"
    }
   ],
   "source": [
    "response"
   ]
  },
  {
   "cell_type": "code",
   "execution_count": 4,
   "metadata": {},
   "outputs": [],
   "source": [
    "data = response.json()"
   ]
  },
  {
   "cell_type": "code",
   "execution_count": 5,
   "metadata": {},
   "outputs": [
    {
     "data": {
      "text/plain": [
       "[{'id': 390813,\n",
       "  'title': 'Easy Korean Beef',\n",
       "  'image': 'https://spoonacular.com/recipeImages/390813-312x231.jpg',\n",
       "  'imageType': 'jpg',\n",
       "  'calories': 326,\n",
       "  'protein': '33g',\n",
       "  'fat': '12g',\n",
       "  'carbs': '20g'},\n",
       " {'id': 622598,\n",
       "  'title': 'Pittata - Pizza Frittata',\n",
       "  'image': 'https://spoonacular.com/recipeImages/622598-312x231.jpg',\n",
       "  'imageType': 'jpg',\n",
       "  'calories': 587,\n",
       "  'protein': '44g',\n",
       "  'fat': '42g',\n",
       "  'carbs': '6g'},\n",
       " {'id': 632590,\n",
       "  'title': 'Apple Roasted Pork Loin',\n",
       "  'image': 'https://spoonacular.com/recipeImages/632590-312x231.jpg',\n",
       "  'imageType': 'jpg',\n",
       "  'calories': 512,\n",
       "  'protein': '51g',\n",
       "  'fat': '17g',\n",
       "  'carbs': '37g'},\n",
       " {'id': 632822,\n",
       "  'title': 'Asian Coleslaw with Baked Salmon',\n",
       "  'image': 'https://spoonacular.com/recipeImages/632822-312x231.jpg',\n",
       "  'imageType': 'jpg',\n",
       "  'calories': 508,\n",
       "  'protein': '40g',\n",
       "  'fat': '27g',\n",
       "  'carbs': '32g'},\n",
       " {'id': 633251,\n",
       "  'title': 'Bacalhau Macau',\n",
       "  'image': 'https://spoonacular.com/recipeImages/633251-312x231.jpg',\n",
       "  'imageType': 'jpg',\n",
       "  'calories': 504,\n",
       "  'protein': '44g',\n",
       "  'fat': '19g',\n",
       "  'carbs': '37g'},\n",
       " {'id': 635263,\n",
       "  'title': 'Blackened Cajun Chicken',\n",
       "  'image': 'https://spoonacular.com/recipeImages/635263-312x231.jpg',\n",
       "  'imageType': 'jpg',\n",
       "  'calories': 447,\n",
       "  'protein': '37g',\n",
       "  'fat': '30g',\n",
       "  'carbs': '7g'},\n",
       " {'id': 637275,\n",
       "  'title': 'Cassoulet for 10',\n",
       "  'image': 'https://spoonacular.com/recipeImages/637275-312x231.jpg',\n",
       "  'imageType': 'jpg',\n",
       "  'calories': 502,\n",
       "  'protein': '37g',\n",
       "  'fat': '24g',\n",
       "  'carbs': '33g'},\n",
       " {'id': 637374,\n",
       "  'title': 'Ceviche Tostadas',\n",
       "  'image': 'https://spoonacular.com/recipeImages/637374-312x231.jpg',\n",
       "  'imageType': 'jpg',\n",
       "  'calories': 264,\n",
       "  'protein': '32g',\n",
       "  'fat': '11g',\n",
       "  'carbs': '11g'},\n",
       " {'id': 637670,\n",
       "  'title': 'Cheesy Pasta in a Pot',\n",
       "  'image': 'https://spoonacular.com/recipeImages/637670-312x231.jpg',\n",
       "  'imageType': 'jpg',\n",
       "  'calories': 491,\n",
       "  'protein': '44g',\n",
       "  'fat': '20g',\n",
       "  'carbs': '33g'},\n",
       " {'id': 638131,\n",
       "  'title': 'Chicken In Soy Sauce With Vegetables',\n",
       "  'image': 'https://spoonacular.com/recipeImages/638131-312x231.jpg',\n",
       "  'imageType': 'jpg',\n",
       "  'calories': 477,\n",
       "  'protein': '39g',\n",
       "  'fat': '27g',\n",
       "  'carbs': '20g'},\n",
       " {'id': 640836,\n",
       "  'title': 'Crispy Santa Fe Chicken',\n",
       "  'image': 'https://spoonacular.com/recipeImages/640836-312x231.jpg',\n",
       "  'imageType': 'jpg',\n",
       "  'calories': 352,\n",
       "  'protein': '34g',\n",
       "  'fat': '19g',\n",
       "  'carbs': '12g'},\n",
       " {'id': 644135,\n",
       "  'title': 'Galbi Tang (Korean Beef Short Ribs Soup)',\n",
       "  'image': 'https://spoonacular.com/recipeImages/644135-312x231.jpg',\n",
       "  'imageType': 'jpg',\n",
       "  'calories': 455,\n",
       "  'protein': '36g',\n",
       "  'fat': '21g',\n",
       "  'carbs': '27g'},\n",
       " {'id': 644761,\n",
       "  'title': 'Glazed pork chops',\n",
       "  'image': 'https://spoonacular.com/recipeImages/644761-312x231.jpg',\n",
       "  'imageType': 'jpg',\n",
       "  'calories': 461,\n",
       "  'protein': '31g',\n",
       "  'fat': '32g',\n",
       "  'carbs': '11g'},\n",
       " {'id': 644826,\n",
       "  'title': 'Gluten Free Dairy Free Sugar Free Chinese Chicken Salad',\n",
       "  'image': 'https://spoonacular.com/recipeImages/644826-312x231.jpg',\n",
       "  'imageType': 'jpg',\n",
       "  'calories': 351,\n",
       "  'protein': '31g',\n",
       "  'fat': '15g',\n",
       "  'carbs': '27g'},\n",
       " {'id': 650632,\n",
       "  'title': 'Mahi-Mahi With Lemon Caper Sauce',\n",
       "  'image': 'https://spoonacular.com/recipeImages/650632-312x231.jpg',\n",
       "  'imageType': 'jpg',\n",
       "  'calories': 217,\n",
       "  'protein': '32g',\n",
       "  'fat': '7g',\n",
       "  'carbs': '3g'},\n",
       " {'id': 659965,\n",
       "  'title': 'Shrimp Fritters With A Peanut and Coconut Sauce',\n",
       "  'image': 'https://spoonacular.com/recipeImages/659965-312x231.jpg',\n",
       "  'imageType': 'jpg',\n",
       "  'calories': 518,\n",
       "  'protein': '31g',\n",
       "  'fat': '38g',\n",
       "  'carbs': '18g'},\n",
       " {'id': 663824,\n",
       "  'title': 'Trinidadian Chicken Potato Curry',\n",
       "  'image': 'https://spoonacular.com/recipeImages/663824-312x231.jpg',\n",
       "  'imageType': 'jpg',\n",
       "  'calories': 554,\n",
       "  'protein': '35g',\n",
       "  'fat': '37g',\n",
       "  'carbs': '20g'},\n",
       " {'id': 663987,\n",
       "  'title': 'Turkey and Sausage Boulettes',\n",
       "  'image': 'https://spoonacular.com/recipeImages/663987-312x231.jpg',\n",
       "  'imageType': 'jpg',\n",
       "  'calories': 471,\n",
       "  'protein': '35g',\n",
       "  'fat': '29g',\n",
       "  'carbs': '16g'},\n",
       " {'id': 715437,\n",
       "  'title': 'Homemade King Ranch Chicken Casserole',\n",
       "  'image': 'https://spoonacular.com/recipeImages/715437-312x231.jpg',\n",
       "  'imageType': 'jpg',\n",
       "  'calories': 552,\n",
       "  'protein': '35g',\n",
       "  'fat': '29g',\n",
       "  'carbs': '37g'},\n",
       " {'id': 1062882,\n",
       "  'title': 'Easy Slow Cooker Whole Chicken With Rosemary',\n",
       "  'image': 'https://spoonacular.com/recipeImages/1062882-312x231.jpg',\n",
       "  'imageType': 'jpg',\n",
       "  'calories': 426,\n",
       "  'protein': '31g',\n",
       "  'fat': '31g',\n",
       "  'carbs': '6g'}]"
      ]
     },
     "execution_count": 5,
     "metadata": {},
     "output_type": "execute_result"
    }
   ],
   "source": [
    "data"
   ]
  },
  {
   "cell_type": "markdown",
   "metadata": {},
   "source": []
  },
  {
   "cell_type": "code",
   "execution_count": 25,
   "metadata": {},
   "outputs": [],
   "source": [
    "# GET https://api.spoonacular.com/recipes/{id}/priceBreakdownWidget.json\n",
    "# response = requests.get(f'https://api.spoonacular.com/recipes/findByNutrients?apiKey={apiKey}&minProtein=30&maxProtein=60&maxCalories=600&number=20')\n",
    "# response = requests.get(f'https://api.spoonacular.com/recipes/{id}/priceBreakdownWidget.json')\n",
    "# response = requests.get(f'https://api.spoonacular.com/recipes/650632/priceBreakdownWidget.json')"
   ]
  },
  {
   "cell_type": "code",
   "execution_count": 26,
   "metadata": {},
   "outputs": [
    {
     "ename": "JSONDecodeError",
     "evalue": "Expecting value: line 1 column 1 (char 0)",
     "output_type": "error",
     "traceback": [
      "\u001b[1;31m---------------------------------------------------------------------------\u001b[0m",
      "\u001b[1;31mJSONDecodeError\u001b[0m                           Traceback (most recent call last)",
      "\u001b[1;32m~\\AppData\\Local\\Temp/ipykernel_17288/690762135.py\u001b[0m in \u001b[0;36m<module>\u001b[1;34m\u001b[0m\n\u001b[1;32m----> 1\u001b[1;33m \u001b[0mresponse\u001b[0m\u001b[1;33m.\u001b[0m\u001b[0mjson\u001b[0m\u001b[1;33m(\u001b[0m\u001b[1;33m)\u001b[0m\u001b[1;33m\u001b[0m\u001b[1;33m\u001b[0m\u001b[0m\n\u001b[0m",
      "\u001b[1;32mC:\\ProgramData\\Anaconda3\\envs\\NICK\\lib\\site-packages\\requests\\models.py\u001b[0m in \u001b[0;36mjson\u001b[1;34m(self, **kwargs)\u001b[0m\n\u001b[0;32m    908\u001b[0m                     \u001b[1;31m# used.\u001b[0m\u001b[1;33m\u001b[0m\u001b[1;33m\u001b[0m\u001b[1;33m\u001b[0m\u001b[0m\n\u001b[0;32m    909\u001b[0m                     \u001b[1;32mpass\u001b[0m\u001b[1;33m\u001b[0m\u001b[1;33m\u001b[0m\u001b[0m\n\u001b[1;32m--> 910\u001b[1;33m         \u001b[1;32mreturn\u001b[0m \u001b[0mcomplexjson\u001b[0m\u001b[1;33m.\u001b[0m\u001b[0mloads\u001b[0m\u001b[1;33m(\u001b[0m\u001b[0mself\u001b[0m\u001b[1;33m.\u001b[0m\u001b[0mtext\u001b[0m\u001b[1;33m,\u001b[0m \u001b[1;33m**\u001b[0m\u001b[0mkwargs\u001b[0m\u001b[1;33m)\u001b[0m\u001b[1;33m\u001b[0m\u001b[1;33m\u001b[0m\u001b[0m\n\u001b[0m\u001b[0;32m    911\u001b[0m \u001b[1;33m\u001b[0m\u001b[0m\n\u001b[0;32m    912\u001b[0m     \u001b[1;33m@\u001b[0m\u001b[0mproperty\u001b[0m\u001b[1;33m\u001b[0m\u001b[1;33m\u001b[0m\u001b[0m\n",
      "\u001b[1;32mC:\\ProgramData\\Anaconda3\\envs\\NICK\\lib\\site-packages\\simplejson\\__init__.py\u001b[0m in \u001b[0;36mloads\u001b[1;34m(s, encoding, cls, object_hook, parse_float, parse_int, parse_constant, object_pairs_hook, use_decimal, **kw)\u001b[0m\n\u001b[0;32m    523\u001b[0m             \u001b[0mparse_constant\u001b[0m \u001b[1;32mis\u001b[0m \u001b[1;32mNone\u001b[0m \u001b[1;32mand\u001b[0m \u001b[0mobject_pairs_hook\u001b[0m \u001b[1;32mis\u001b[0m \u001b[1;32mNone\u001b[0m\u001b[1;33m\u001b[0m\u001b[1;33m\u001b[0m\u001b[0m\n\u001b[0;32m    524\u001b[0m             and not use_decimal and not kw):\n\u001b[1;32m--> 525\u001b[1;33m         \u001b[1;32mreturn\u001b[0m \u001b[0m_default_decoder\u001b[0m\u001b[1;33m.\u001b[0m\u001b[0mdecode\u001b[0m\u001b[1;33m(\u001b[0m\u001b[0ms\u001b[0m\u001b[1;33m)\u001b[0m\u001b[1;33m\u001b[0m\u001b[1;33m\u001b[0m\u001b[0m\n\u001b[0m\u001b[0;32m    526\u001b[0m     \u001b[1;32mif\u001b[0m \u001b[0mcls\u001b[0m \u001b[1;32mis\u001b[0m \u001b[1;32mNone\u001b[0m\u001b[1;33m:\u001b[0m\u001b[1;33m\u001b[0m\u001b[1;33m\u001b[0m\u001b[0m\n\u001b[0;32m    527\u001b[0m         \u001b[0mcls\u001b[0m \u001b[1;33m=\u001b[0m \u001b[0mJSONDecoder\u001b[0m\u001b[1;33m\u001b[0m\u001b[1;33m\u001b[0m\u001b[0m\n",
      "\u001b[1;32mC:\\ProgramData\\Anaconda3\\envs\\NICK\\lib\\site-packages\\simplejson\\decoder.py\u001b[0m in \u001b[0;36mdecode\u001b[1;34m(self, s, _w, _PY3)\u001b[0m\n\u001b[0;32m    368\u001b[0m         \u001b[1;32mif\u001b[0m \u001b[0m_PY3\u001b[0m \u001b[1;32mand\u001b[0m \u001b[0misinstance\u001b[0m\u001b[1;33m(\u001b[0m\u001b[0ms\u001b[0m\u001b[1;33m,\u001b[0m \u001b[0mbytes\u001b[0m\u001b[1;33m)\u001b[0m\u001b[1;33m:\u001b[0m\u001b[1;33m\u001b[0m\u001b[1;33m\u001b[0m\u001b[0m\n\u001b[0;32m    369\u001b[0m             \u001b[0ms\u001b[0m \u001b[1;33m=\u001b[0m \u001b[0mstr\u001b[0m\u001b[1;33m(\u001b[0m\u001b[0ms\u001b[0m\u001b[1;33m,\u001b[0m \u001b[0mself\u001b[0m\u001b[1;33m.\u001b[0m\u001b[0mencoding\u001b[0m\u001b[1;33m)\u001b[0m\u001b[1;33m\u001b[0m\u001b[1;33m\u001b[0m\u001b[0m\n\u001b[1;32m--> 370\u001b[1;33m         \u001b[0mobj\u001b[0m\u001b[1;33m,\u001b[0m \u001b[0mend\u001b[0m \u001b[1;33m=\u001b[0m \u001b[0mself\u001b[0m\u001b[1;33m.\u001b[0m\u001b[0mraw_decode\u001b[0m\u001b[1;33m(\u001b[0m\u001b[0ms\u001b[0m\u001b[1;33m)\u001b[0m\u001b[1;33m\u001b[0m\u001b[1;33m\u001b[0m\u001b[0m\n\u001b[0m\u001b[0;32m    371\u001b[0m         \u001b[0mend\u001b[0m \u001b[1;33m=\u001b[0m \u001b[0m_w\u001b[0m\u001b[1;33m(\u001b[0m\u001b[0ms\u001b[0m\u001b[1;33m,\u001b[0m \u001b[0mend\u001b[0m\u001b[1;33m)\u001b[0m\u001b[1;33m.\u001b[0m\u001b[0mend\u001b[0m\u001b[1;33m(\u001b[0m\u001b[1;33m)\u001b[0m\u001b[1;33m\u001b[0m\u001b[1;33m\u001b[0m\u001b[0m\n\u001b[0;32m    372\u001b[0m         \u001b[1;32mif\u001b[0m \u001b[0mend\u001b[0m \u001b[1;33m!=\u001b[0m \u001b[0mlen\u001b[0m\u001b[1;33m(\u001b[0m\u001b[0ms\u001b[0m\u001b[1;33m)\u001b[0m\u001b[1;33m:\u001b[0m\u001b[1;33m\u001b[0m\u001b[1;33m\u001b[0m\u001b[0m\n",
      "\u001b[1;32mC:\\ProgramData\\Anaconda3\\envs\\NICK\\lib\\site-packages\\simplejson\\decoder.py\u001b[0m in \u001b[0;36mraw_decode\u001b[1;34m(self, s, idx, _w, _PY3)\u001b[0m\n\u001b[0;32m    398\u001b[0m             \u001b[1;32melif\u001b[0m \u001b[0mord0\u001b[0m \u001b[1;33m==\u001b[0m \u001b[1;36m0xef\u001b[0m \u001b[1;32mand\u001b[0m \u001b[0ms\u001b[0m\u001b[1;33m[\u001b[0m\u001b[0midx\u001b[0m\u001b[1;33m:\u001b[0m\u001b[0midx\u001b[0m \u001b[1;33m+\u001b[0m \u001b[1;36m3\u001b[0m\u001b[1;33m]\u001b[0m \u001b[1;33m==\u001b[0m \u001b[1;34m'\\xef\\xbb\\xbf'\u001b[0m\u001b[1;33m:\u001b[0m\u001b[1;33m\u001b[0m\u001b[1;33m\u001b[0m\u001b[0m\n\u001b[0;32m    399\u001b[0m                 \u001b[0midx\u001b[0m \u001b[1;33m+=\u001b[0m \u001b[1;36m3\u001b[0m\u001b[1;33m\u001b[0m\u001b[1;33m\u001b[0m\u001b[0m\n\u001b[1;32m--> 400\u001b[1;33m         \u001b[1;32mreturn\u001b[0m \u001b[0mself\u001b[0m\u001b[1;33m.\u001b[0m\u001b[0mscan_once\u001b[0m\u001b[1;33m(\u001b[0m\u001b[0ms\u001b[0m\u001b[1;33m,\u001b[0m \u001b[0midx\u001b[0m\u001b[1;33m=\u001b[0m\u001b[0m_w\u001b[0m\u001b[1;33m(\u001b[0m\u001b[0ms\u001b[0m\u001b[1;33m,\u001b[0m \u001b[0midx\u001b[0m\u001b[1;33m)\u001b[0m\u001b[1;33m.\u001b[0m\u001b[0mend\u001b[0m\u001b[1;33m(\u001b[0m\u001b[1;33m)\u001b[0m\u001b[1;33m)\u001b[0m\u001b[1;33m\u001b[0m\u001b[1;33m\u001b[0m\u001b[0m\n\u001b[0m",
      "\u001b[1;31mJSONDecodeError\u001b[0m: Expecting value: line 1 column 1 (char 0)"
     ]
    }
   ],
   "source": [
    "response.json()"
   ]
  },
  {
   "cell_type": "code",
   "execution_count": 34,
   "metadata": {},
   "outputs": [
    {
     "name": "stdout",
     "output_type": "stream",
     "text": [
      "Collecting git+https://github.com/nickessner/GIT_REPO_ID.git\n",
      "  Cloning https://github.com/nickessner/GIT_REPO_ID.git to c:\\users\\npess\\appdata\\local\\temp\\pip-req-build-0g20vruj\n",
      "Note: you may need to restart the kernel to use updated packages.\n"
     ]
    },
    {
     "name": "stderr",
     "output_type": "stream",
     "text": [
      "  Running command git clone --filter=blob:none -q https://github.com/nickessner/GIT_REPO_ID.git 'C:\\Users\\npess\\AppData\\Local\\Temp\\pip-req-build-0g20vruj'\n",
      "  remote: Repository not found.\n",
      "  fatal: repository 'https://github.com/nickessner/GIT_REPO_ID.git/' not found\n",
      "WARNING: Discarding git+https://github.com/nickessner/GIT_REPO_ID.git. Command errored out with exit status 128: git clone --filter=blob:none -q https://github.com/nickessner/GIT_REPO_ID.git 'C:\\Users\\npess\\AppData\\Local\\Temp\\pip-req-build-0g20vruj' Check the logs for full command output.\n",
      "ERROR: Command errored out with exit status 128: git clone --filter=blob:none -q https://github.com/nickessner/GIT_REPO_ID.git 'C:\\Users\\npess\\AppData\\Local\\Temp\\pip-req-build-0g20vruj' Check the logs for full command output.\n"
     ]
    }
   ],
   "source": [
    "# pip install git+https://github.com/nickessner/GIT_REPO_ID.git"
   ]
  },
  {
   "cell_type": "code",
   "execution_count": 32,
   "metadata": {},
   "outputs": [
    {
     "ename": "ImportError",
     "evalue": "cannot import name 'ApiException' from 'spoonacular' (C:\\ProgramData\\Anaconda3\\envs\\NICK\\lib\\site-packages\\spoonacular\\__init__.py)",
     "output_type": "error",
     "traceback": [
      "\u001b[1;31m---------------------------------------------------------------------------\u001b[0m",
      "\u001b[1;31mImportError\u001b[0m                               Traceback (most recent call last)",
      "\u001b[1;32m~\\AppData\\Local\\Temp/ipykernel_17288/3187090674.py\u001b[0m in \u001b[0;36m<module>\u001b[1;34m\u001b[0m\n\u001b[0;32m      2\u001b[0m \u001b[1;32mimport\u001b[0m \u001b[0mtime\u001b[0m\u001b[1;33m\u001b[0m\u001b[1;33m\u001b[0m\u001b[0m\n\u001b[0;32m      3\u001b[0m \u001b[1;32mimport\u001b[0m \u001b[0mspoonacular\u001b[0m\u001b[1;33m\u001b[0m\u001b[1;33m\u001b[0m\u001b[0m\n\u001b[1;32m----> 4\u001b[1;33m \u001b[1;32mfrom\u001b[0m \u001b[0mspoonacular\u001b[0m \u001b[1;32mimport\u001b[0m \u001b[0mApiException\u001b[0m\u001b[1;33m\u001b[0m\u001b[1;33m\u001b[0m\u001b[0m\n\u001b[0m\u001b[0;32m      5\u001b[0m \u001b[1;32mfrom\u001b[0m \u001b[0mpprint\u001b[0m \u001b[1;32mimport\u001b[0m \u001b[0mpprint\u001b[0m\u001b[1;33m\u001b[0m\u001b[1;33m\u001b[0m\u001b[0m\n\u001b[0;32m      6\u001b[0m \u001b[1;33m\u001b[0m\u001b[0m\n",
      "\u001b[1;31mImportError\u001b[0m: cannot import name 'ApiException' from 'spoonacular' (C:\\ProgramData\\Anaconda3\\envs\\NICK\\lib\\site-packages\\spoonacular\\__init__.py)"
     ]
    }
   ],
   "source": [
    "from __future__ import print_function\n",
    "import time\n",
    "import spoonacular\n",
    "from spoonacular import ApiException\n",
    "from pprint import pprint\n",
    "\n",
    "configuration = spoonacular.Configuration()\n",
    "# Configure API key authorization: apiKeyScheme\n",
    "configuration.api_key['apiKey'] = apiKey\n",
    "# Uncomment below to setup prefix (e.g. Bearer) for API key, if needed\n",
    "# configuration.api_key_prefix['apiKey'] = 'Bearer'\n",
    "\n",
    "# create an instance of the API class\n",
    "api_instance = spoonacular.IngredientsApi(spoonacular.ApiClient(configuration))\n",
    "query = 'burger' # str | The (natural language) search query. (optional)\n",
    "number = 10 # int | The maximum number of items to return (between 1 and 100). Defaults to 10. (optional) (default to 10)\n",
    "meta_information = false # bool | Whether to return more meta information about the ingredients. (optional)\n",
    "intolerances = 'egg' # str | A comma-separated list of intolerances. All recipes returned must not contain ingredients that are not suitable for people with the intolerances entered. See a full list of supported intolerances. (optional)\n",
    "\n",
    "try:\n",
    "    # Autocomplete Ingredient Search\n",
    "    api_response = api_instance.autocomplete_ingredient_search(query=query, number=number, meta_information=meta_information, intolerances=intolerances)\n",
    "    pprint(api_response)\n",
    "except ApiException as e:\n",
    "    print(\"Exception when calling IngredientsApi->autocomplete_ingredient_search: %s\\n\" % e)"
   ]
  },
  {
   "cell_type": "code",
   "execution_count": null,
   "metadata": {},
   "outputs": [],
   "source": []
  }
 ],
 "metadata": {
  "interpreter": {
   "hash": "d1854e1531a9c466e2b9f0978715f89457746683def4148e686d8dcc1a6a6497"
  },
  "kernelspec": {
   "display_name": "Python 3.7.12 64-bit ('NICK': conda)",
   "language": "python",
   "name": "python3"
  },
  "language_info": {
   "codemirror_mode": {
    "name": "ipython",
    "version": 3
   },
   "file_extension": ".py",
   "mimetype": "text/x-python",
   "name": "python",
   "nbconvert_exporter": "python",
   "pygments_lexer": "ipython3",
   "version": "3.7.12"
  },
  "orig_nbformat": 4
 },
 "nbformat": 4,
 "nbformat_minor": 2
}
